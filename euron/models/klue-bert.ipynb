{
 "cells": [
  {
   "cell_type": "markdown",
   "metadata": {},
   "source": [
    "## Import Library "
   ]
  },
  {
   "cell_type": "code",
   "execution_count": 42,
   "metadata": {
    "id": "RDKLbQSTPDc7"
   },
   "outputs": [],
   "source": [
    "import torch\n",
    "import torch.nn as nn\n",
    "import torch.nn.functional as F\n",
    "import torch.optim as optim\n",
    "from torch.utils.data import Dataset, DataLoader\n",
    "\n",
    "import numpy as np\n",
    "import pandas as pd\n",
    "import random\n",
    "import seaborn as sns\n",
    "import matplotlib.pyplot as plt\n",
    "\n",
    "# Hugging Face를 통한 모델 및 토크나이저 Import\n",
    "from transformers import AutoTokenizer, AutoModelForMaskedLM, AutoModelForSequenceClassification\n",
    "from transformers import AdamW\n",
    "from transformers.optimization import get_linear_schedule_with_warmup"
   ]
  },
  {
   "cell_type": "markdown",
   "metadata": {},
   "source": [
    "\n",
    "## Load Data"
   ]
  },
  {
   "cell_type": "code",
   "execution_count": 43,
   "metadata": {
    "id": "S9fpFgdSQj-D"
   },
   "outputs": [],
   "source": [
    "df = pd.read_csv(\"../preprocessing/preprocessed_title.csv\", index_col = 0)"
   ]
  },
  {
   "cell_type": "code",
   "execution_count": 44,
   "metadata": {},
   "outputs": [
    {
     "name": "stdout",
     "output_type": "stream",
     "text": [
      "<class 'pandas.core.frame.DataFrame'>\n",
      "Index: 9423 entries, 0 to 9781\n",
      "Data columns (total 3 columns):\n",
      " #   Column           Non-Null Count  Dtype \n",
      "---  ------           --------------  ----- \n",
      " 0   title            9423 non-null   object\n",
      " 1   label            9423 non-null   int64 \n",
      " 2   processed_title  9423 non-null   object\n",
      "dtypes: int64(1), object(2)\n",
      "memory usage: 294.5+ KB\n"
     ]
    }
   ],
   "source": [
    "df.info()"
   ]
  },
  {
   "cell_type": "code",
   "execution_count": 45,
   "metadata": {},
   "outputs": [],
   "source": [
    "df = df.dropna(subset=['processed_title'])"
   ]
  },
  {
   "cell_type": "code",
   "execution_count": 46,
   "metadata": {
    "id": "YO96MJMQPDZT"
   },
   "outputs": [],
   "source": [
    "device = torch.device(\"cuda:0\")"
   ]
  },
  {
   "cell_type": "markdown",
   "metadata": {},
   "source": [
    "## Load Model"
   ]
  },
  {
   "cell_type": "code",
   "execution_count": 47,
   "metadata": {},
   "outputs": [
    {
     "name": "stderr",
     "output_type": "stream",
     "text": [
      "Some weights of BertForSequenceClassification were not initialized from the model checkpoint at klue/bert-base and are newly initialized: ['classifier.bias', 'classifier.weight']\n",
      "You should probably TRAIN this model on a down-stream task to be able to use it for predictions and inference.\n"
     ]
    },
    {
     "data": {
      "text/plain": [
       "BertForSequenceClassification(\n",
       "  (bert): BertModel(\n",
       "    (embeddings): BertEmbeddings(\n",
       "      (word_embeddings): Embedding(32000, 768, padding_idx=0)\n",
       "      (position_embeddings): Embedding(512, 768)\n",
       "      (token_type_embeddings): Embedding(2, 768)\n",
       "      (LayerNorm): LayerNorm((768,), eps=1e-12, elementwise_affine=True)\n",
       "      (dropout): Dropout(p=0.1, inplace=False)\n",
       "    )\n",
       "    (encoder): BertEncoder(\n",
       "      (layer): ModuleList(\n",
       "        (0-11): 12 x BertLayer(\n",
       "          (attention): BertAttention(\n",
       "            (self): BertSelfAttention(\n",
       "              (query): Linear(in_features=768, out_features=768, bias=True)\n",
       "              (key): Linear(in_features=768, out_features=768, bias=True)\n",
       "              (value): Linear(in_features=768, out_features=768, bias=True)\n",
       "              (dropout): Dropout(p=0.1, inplace=False)\n",
       "            )\n",
       "            (output): BertSelfOutput(\n",
       "              (dense): Linear(in_features=768, out_features=768, bias=True)\n",
       "              (LayerNorm): LayerNorm((768,), eps=1e-12, elementwise_affine=True)\n",
       "              (dropout): Dropout(p=0.1, inplace=False)\n",
       "            )\n",
       "          )\n",
       "          (intermediate): BertIntermediate(\n",
       "            (dense): Linear(in_features=768, out_features=3072, bias=True)\n",
       "            (intermediate_act_fn): GELUActivation()\n",
       "          )\n",
       "          (output): BertOutput(\n",
       "            (dense): Linear(in_features=3072, out_features=768, bias=True)\n",
       "            (LayerNorm): LayerNorm((768,), eps=1e-12, elementwise_affine=True)\n",
       "            (dropout): Dropout(p=0.1, inplace=False)\n",
       "          )\n",
       "        )\n",
       "      )\n",
       "    )\n",
       "    (pooler): BertPooler(\n",
       "      (dense): Linear(in_features=768, out_features=768, bias=True)\n",
       "      (activation): Tanh()\n",
       "    )\n",
       "  )\n",
       "  (dropout): Dropout(p=0.1, inplace=False)\n",
       "  (classifier): Linear(in_features=768, out_features=2, bias=True)\n",
       ")"
      ]
     },
     "execution_count": 47,
     "metadata": {},
     "output_type": "execute_result"
    }
   ],
   "source": [
    "model = AutoModelForSequenceClassification.from_pretrained(\"klue/bert-base\")\n",
    "tokenizer = AutoTokenizer.from_pretrained(\"klue/bert-base\")\n",
    "\n",
    "model.to(device)"
   ]
  },
  {
   "cell_type": "markdown",
   "metadata": {},
   "source": [
    "## Build Dataset"
   ]
  },
  {
   "cell_type": "code",
   "execution_count": 48,
   "metadata": {},
   "outputs": [],
   "source": [
    "class KLUE_DATASET(Dataset):\n",
    "    def __init__(self, dataset, tokenizer):\n",
    "        \n",
    "        self.dataset = dataset\n",
    "        self.tokenizer = tokenizer\n",
    "    \n",
    "    def __len__(self):\n",
    "        \n",
    "        return len(self.dataset)\n",
    "    \n",
    "    def __getitem__(self, idx):\n",
    "        \n",
    "        sample = self.dataset.iloc[idx] \n",
    "        text = str(sample['processed_title'])\n",
    "        label = int(sample['label'])\n",
    "\n",
    "        # 토크나이징\n",
    "        tokens = self.tokenizer(\n",
    "            text,\n",
    "            truncation=True,\n",
    "            padding='max_length',\n",
    "            max_length=128, # 최대 길이 지정\n",
    "            return_tensors=\"pt\" # PyTorch 텐서 반환\n",
    "        )\n",
    "\n",
    "        # 하나의 sample의 정보를 dictionary로 구성\n",
    "        return {\n",
    "            'text': text,\n",
    "            'input_ids': tokens['input_ids'].squeeze(0), # (batch_size=1, size)이므로 squeeze(0)으로 1인 차원 축소\n",
    "            'token_type_ids': tokens['token_type_ids'].squeeze(0),\n",
    "            'attention_mask': tokens['attention_mask'].squeeze(0),\n",
    "            'labels': label\n",
    "        }"
   ]
  },
  {
   "cell_type": "code",
   "execution_count": 49,
   "metadata": {},
   "outputs": [
    {
     "name": "stdout",
     "output_type": "stream",
     "text": [
      "{'text': '재학생 영어 진단 평가 신청 일정 안내', 'input_ids': tensor([   2, 9155, 2065, 4612, 5169, 3777, 4373, 4362, 5611,    3,    0,    0,\n",
      "           0,    0,    0,    0,    0,    0,    0,    0,    0,    0,    0,    0,\n",
      "           0,    0,    0,    0,    0,    0,    0,    0,    0,    0,    0,    0,\n",
      "           0,    0,    0,    0,    0,    0,    0,    0,    0,    0,    0,    0,\n",
      "           0,    0,    0,    0,    0,    0,    0,    0,    0,    0,    0,    0,\n",
      "           0,    0,    0,    0,    0,    0,    0,    0,    0,    0,    0,    0,\n",
      "           0,    0,    0,    0,    0,    0,    0,    0,    0,    0,    0,    0,\n",
      "           0,    0,    0,    0,    0,    0,    0,    0,    0,    0,    0,    0,\n",
      "           0,    0,    0,    0,    0,    0,    0,    0,    0,    0,    0,    0,\n",
      "           0,    0,    0,    0,    0,    0,    0,    0,    0,    0,    0,    0,\n",
      "           0,    0,    0,    0,    0,    0,    0,    0]), 'token_type_ids': tensor([0, 0, 0, 0, 0, 0, 0, 0, 0, 0, 0, 0, 0, 0, 0, 0, 0, 0, 0, 0, 0, 0, 0, 0,\n",
      "        0, 0, 0, 0, 0, 0, 0, 0, 0, 0, 0, 0, 0, 0, 0, 0, 0, 0, 0, 0, 0, 0, 0, 0,\n",
      "        0, 0, 0, 0, 0, 0, 0, 0, 0, 0, 0, 0, 0, 0, 0, 0, 0, 0, 0, 0, 0, 0, 0, 0,\n",
      "        0, 0, 0, 0, 0, 0, 0, 0, 0, 0, 0, 0, 0, 0, 0, 0, 0, 0, 0, 0, 0, 0, 0, 0,\n",
      "        0, 0, 0, 0, 0, 0, 0, 0, 0, 0, 0, 0, 0, 0, 0, 0, 0, 0, 0, 0, 0, 0, 0, 0,\n",
      "        0, 0, 0, 0, 0, 0, 0, 0]), 'attention_mask': tensor([1, 1, 1, 1, 1, 1, 1, 1, 1, 1, 0, 0, 0, 0, 0, 0, 0, 0, 0, 0, 0, 0, 0, 0,\n",
      "        0, 0, 0, 0, 0, 0, 0, 0, 0, 0, 0, 0, 0, 0, 0, 0, 0, 0, 0, 0, 0, 0, 0, 0,\n",
      "        0, 0, 0, 0, 0, 0, 0, 0, 0, 0, 0, 0, 0, 0, 0, 0, 0, 0, 0, 0, 0, 0, 0, 0,\n",
      "        0, 0, 0, 0, 0, 0, 0, 0, 0, 0, 0, 0, 0, 0, 0, 0, 0, 0, 0, 0, 0, 0, 0, 0,\n",
      "        0, 0, 0, 0, 0, 0, 0, 0, 0, 0, 0, 0, 0, 0, 0, 0, 0, 0, 0, 0, 0, 0, 0, 0,\n",
      "        0, 0, 0, 0, 0, 0, 0, 0]), 'labels': 0}\n"
     ]
    }
   ],
   "source": [
    "# test for KLUE dataset\n",
    "test = KLUE_DATASET(df, tokenizer)\n",
    "print(test[0])"
   ]
  },
  {
   "cell_type": "markdown",
   "metadata": {},
   "source": [
    "## Split Data"
   ]
  },
  {
   "cell_type": "code",
   "execution_count": 50,
   "metadata": {},
   "outputs": [],
   "source": [
    "# 데이터 분할\n",
    "from sklearn.model_selection import train_test_split\n",
    "\n",
    "train_data, test_data = train_test_split(df, test_size=0.1)\n",
    "train_dataset = KLUE_DATASET(train_data, tokenizer)\n",
    "eval_dataset = KLUE_DATASET(test_data, tokenizer)"
   ]
  },
  {
   "cell_type": "code",
   "execution_count": 51,
   "metadata": {},
   "outputs": [
    {
     "name": "stdout",
     "output_type": "stream",
     "text": [
      "8480\n",
      "943\n"
     ]
    }
   ],
   "source": [
    "print(len(train_dataset))\n",
    "print(len(eval_dataset))"
   ]
  },
  {
   "cell_type": "markdown",
   "metadata": {},
   "source": [
    "## DataLoader"
   ]
  },
  {
   "cell_type": "code",
   "execution_count": 52,
   "metadata": {},
   "outputs": [],
   "source": [
    "from torch.utils.data import DataLoader, RandomSampler, SequentialSampler\n",
    "\n",
    "BATCH_SIZE = 8\n",
    "train_dataloader = DataLoader(\n",
    "    train_dataset, \n",
    "    sampler = RandomSampler(train_dataset),\n",
    "    batch_size = BATCH_SIZE\n",
    ")\n",
    "eval_dataloader = DataLoader(\n",
    "    eval_dataset, \n",
    "    sampler = RandomSampler(eval_dataset),\n",
    "    batch_size = BATCH_SIZE\n",
    ")"
   ]
  },
  {
   "cell_type": "markdown",
   "metadata": {},
   "source": [
    "## Optimizer & Learning Scheduler"
   ]
  },
  {
   "cell_type": "code",
   "execution_count": 53,
   "metadata": {},
   "outputs": [
    {
     "name": "stderr",
     "output_type": "stream",
     "text": [
      "/home/aix7101/anaconda3/envs/euron/lib/python3.10/site-packages/transformers/optimization.py:591: FutureWarning: This implementation of AdamW is deprecated and will be removed in a future version. Use the PyTorch implementation torch.optim.AdamW instead, or set `no_deprecation_warning=True` to disable this warning\n",
      "  warnings.warn(\n"
     ]
    }
   ],
   "source": [
    "optimizer = AdamW(model.parameters(), \n",
    "                  lr = 2e-5, \n",
    "                  eps = 1e-8)\n",
    "\n",
    "num_epochs = 5\n",
    "# len(dataloader) = len(dataset)/batch_size\n",
    "total_steps = len(train_dataloader)*num_epochs\n",
    "scheduler = get_linear_schedule_with_warmup(optimizer, \n",
    "                                            num_warmup_steps=0,\n",
    "                                            num_training_steps=total_steps)"
   ]
  },
  {
   "cell_type": "markdown",
   "metadata": {},
   "source": [
    "## Training Loop"
   ]
  },
  {
   "cell_type": "code",
   "execution_count": 54,
   "metadata": {},
   "outputs": [],
   "source": [
    "def calcuate_accuracy(preds, labels):\n",
    "    preds = np.argmax(preds, axis = 1)\n",
    "    return np.sum(preds == labels) / len(labels)"
   ]
  },
  {
   "cell_type": "code",
   "execution_count": 55,
   "metadata": {},
   "outputs": [],
   "source": [
    "seed_val = 42\n",
    "random.seed(seed_val)\n",
    "np.random.seed(seed_val)\n",
    "torch.manual_seed(seed_val)\n",
    "torch.cuda.manual_seed_all(seed_val)"
   ]
  },
  {
   "cell_type": "code",
   "execution_count": 56,
   "metadata": {},
   "outputs": [
    {
     "name": "stdout",
     "output_type": "stream",
     "text": [
      "======Epoch 1 / 5======\n",
      "Training...\n"
     ]
    },
    {
     "name": "stdout",
     "output_type": "stream",
     "text": [
      "Average training loss: 0.2992\n",
      "Validation...\n",
      "Validation Loss: 0.2537\n",
      "Validation Accuracy: 0.9417\n",
      "\n",
      "\n",
      "======Epoch 2 / 5======\n",
      "Training...\n",
      "Average training loss: 0.1640\n",
      "Validation...\n",
      "Validation Loss: 0.2291\n",
      "Validation Accuracy: 0.9490\n",
      "\n",
      "\n",
      "======Epoch 3 / 5======\n",
      "Training...\n",
      "Average training loss: 0.1075\n",
      "Validation...\n",
      "Validation Loss: 0.2500\n",
      "Validation Accuracy: 0.9522\n",
      "\n",
      "\n",
      "======Epoch 4 / 5======\n",
      "Training...\n",
      "Average training loss: 0.0628\n",
      "Validation...\n",
      "Validation Loss: 0.2990\n",
      "Validation Accuracy: 0.9502\n",
      "\n",
      "\n",
      "======Epoch 5 / 5======\n",
      "Training...\n",
      "Average training loss: 0.0413\n",
      "Validation...\n",
      "Validation Loss: 0.3159\n",
      "Validation Accuracy: 0.9458\n",
      "\n",
      "\n",
      "Training Completed\n"
     ]
    }
   ],
   "source": [
    "training_info = []\n",
    "\n",
    "for epoch in range(num_epochs):\n",
    "    \n",
    "    print(f\"======Epoch {epoch+1} / {num_epochs}======\")\n",
    "    print(\"Training...\")\n",
    "    \n",
    "    total_train_loss = 0.0\n",
    "    \n",
    "    model.train()\n",
    "    \n",
    "    for idx, sample in enumerate(train_dataloader):\n",
    "        input_ids = sample['input_ids'].to(device)\n",
    "        attention_mask = sample['attention_mask'].to(device)\n",
    "        labels = sample['labels'].to(device)\n",
    "        \n",
    "        optimizer.zero_grad() # initialize gradient\n",
    "        outputs = model(input_ids,\n",
    "                             token_type_ids = None,\n",
    "                             attention_mask = attention_mask,\n",
    "                             labels = labels)\n",
    "        # print(f\"outputs: {outputs}\")\n",
    "        \n",
    "        loss = outputs.loss\n",
    "        total_train_loss += loss.item()\n",
    "        loss.backward() # compute gradient based on loss\n",
    "        torch.nn.utils.clip_grad_norm_(model.parameters(), 1.0)\n",
    "        optimizer.step() # update weights based on computed gradients\n",
    "        scheduler.step() # reschedule learning rate\n",
    "    \n",
    "    avg_train_loss = total_train_loss / len(train_dataloader) # 전체 데이터셋의 loss / 반복의 횟수\n",
    "    \n",
    "    print(f\"Average training loss: {avg_train_loss:.4f}\")\n",
    "    print(\"Validation...\")\n",
    "    \n",
    "    model.eval()\n",
    "    \n",
    "    total_eval_accuracy = 0.0\n",
    "    total_eval_loss = 0.0\n",
    "    \n",
    "    for _, sample in enumerate(eval_dataloader):\n",
    "        \n",
    "        input_ids = sample['input_ids'].to(device)\n",
    "        attention_mask = sample['attention_mask'].to(device)\n",
    "        labels = sample['labels'].to(device)\n",
    "        \n",
    "        with torch.no_grad():\n",
    "            outputs = model(input_ids, \n",
    "                            token_type_ids = None,\n",
    "                            attention_mask = attention_mask,\n",
    "                            labels = labels)\n",
    "            loss = outputs.loss\n",
    "            total_eval_loss += loss.item()\n",
    "            \n",
    "            logits = outputs.logits\n",
    "            logits = logits.detach().cpu().numpy()\n",
    "            labels = labels.to('cpu').numpy()\n",
    "            \n",
    "            total_eval_accuracy += calcuate_accuracy(logits, labels)\n",
    "    \n",
    "    avg_eval_loss = total_eval_loss / len(eval_dataloader)\n",
    "    avg_eval_accuracy = total_eval_accuracy / len(eval_dataloader)\n",
    "    print(f\"Validation Loss: {avg_eval_loss:.4f}\")\n",
    "    print(f\"Validation Accuracy: {avg_eval_accuracy:.4f}\")\n",
    "    \n",
    "    training_info.append(\n",
    "        {\n",
    "            'epoch': epoch + 1,\n",
    "            'training loss': avg_train_loss,\n",
    "            'eval loss': avg_eval_loss,\n",
    "            'eval accuracy': avg_eval_accuracy\n",
    "        }\n",
    "    )\n",
    "    print('\\n')\n",
    "\n",
    "print(\"Training Completed\")"
   ]
  },
  {
   "cell_type": "markdown",
   "metadata": {},
   "source": [
    "## Visualization"
   ]
  },
  {
   "cell_type": "code",
   "execution_count": 57,
   "metadata": {},
   "outputs": [
    {
     "data": {
      "text/html": [
       "<div>\n",
       "<style scoped>\n",
       "    .dataframe tbody tr th:only-of-type {\n",
       "        vertical-align: middle;\n",
       "    }\n",
       "\n",
       "    .dataframe tbody tr th {\n",
       "        vertical-align: top;\n",
       "    }\n",
       "\n",
       "    .dataframe thead th {\n",
       "        text-align: right;\n",
       "    }\n",
       "</style>\n",
       "<table border=\"1\" class=\"dataframe\">\n",
       "  <thead>\n",
       "    <tr style=\"text-align: right;\">\n",
       "      <th></th>\n",
       "      <th>training loss</th>\n",
       "      <th>eval loss</th>\n",
       "      <th>eval accuracy</th>\n",
       "    </tr>\n",
       "    <tr>\n",
       "      <th>epoch</th>\n",
       "      <th></th>\n",
       "      <th></th>\n",
       "      <th></th>\n",
       "    </tr>\n",
       "  </thead>\n",
       "  <tbody>\n",
       "    <tr>\n",
       "      <th>1</th>\n",
       "      <td>0.299225</td>\n",
       "      <td>0.253746</td>\n",
       "      <td>0.941737</td>\n",
       "    </tr>\n",
       "    <tr>\n",
       "      <th>2</th>\n",
       "      <td>0.164004</td>\n",
       "      <td>0.229142</td>\n",
       "      <td>0.949001</td>\n",
       "    </tr>\n",
       "    <tr>\n",
       "      <th>3</th>\n",
       "      <td>0.107500</td>\n",
       "      <td>0.249960</td>\n",
       "      <td>0.952179</td>\n",
       "    </tr>\n",
       "    <tr>\n",
       "      <th>4</th>\n",
       "      <td>0.062795</td>\n",
       "      <td>0.299017</td>\n",
       "      <td>0.950212</td>\n",
       "    </tr>\n",
       "    <tr>\n",
       "      <th>5</th>\n",
       "      <td>0.041331</td>\n",
       "      <td>0.315857</td>\n",
       "      <td>0.945823</td>\n",
       "    </tr>\n",
       "  </tbody>\n",
       "</table>\n",
       "</div>"
      ],
      "text/plain": [
       "       training loss  eval loss  eval accuracy\n",
       "epoch                                         \n",
       "1           0.299225   0.253746       0.941737\n",
       "2           0.164004   0.229142       0.949001\n",
       "3           0.107500   0.249960       0.952179\n",
       "4           0.062795   0.299017       0.950212\n",
       "5           0.041331   0.315857       0.945823"
      ]
     },
     "execution_count": 57,
     "metadata": {},
     "output_type": "execute_result"
    }
   ],
   "source": [
    "df_train_info = pd.DataFrame(data = training_info)\n",
    "df_train_info = df_train_info.set_index('epoch')\n",
    "df_train_info"
   ]
  },
  {
   "cell_type": "code",
   "execution_count": 58,
   "metadata": {},
   "outputs": [
    {
     "data": {
      "image/png": "[encoded data removed]",
      "text/plain": [
       "<Figure size 1000x500 with 1 Axes>"
      ]
     },
     "metadata": {},
     "output_type": "display_data"
    }
   ],
   "source": [
    "sns.set(style = 'darkgrid')\n",
    "plt.figure(figsize = (10, 5))\n",
    "plt.plot(df_train_info['training loss'], 'b-o', label = 'Trianing')\n",
    "plt.plot(df_train_info['eval loss'], 'g-o', label = 'Validation')\n",
    "\n",
    "plt.title('Training & Validation Loss')\n",
    "plt.xlabel('Epoch')\n",
    "plt.ylabel('Loss')\n",
    "plt.legend()\n",
    "plt.show()"
   ]
  },
  {
   "cell_type": "code",
   "execution_count": 59,
   "metadata": {},
   "outputs": [
    {
     "name": "stdout",
     "output_type": "stream",
     "text": [
      "final eval accuracy: 0.9478\n"
     ]
    }
   ],
   "source": [
    "final_eval_accuracy = df_train_info['eval accuracy'].mean()\n",
    "print(f\"final eval accuracy: {final_eval_accuracy:.4f}\")"
   ]
  },
  {
   "cell_type": "code",
   "execution_count": 60,
   "metadata": {},
   "outputs": [
    {
     "name": "stdout",
     "output_type": "stream",
     "text": [
      "Test Data F1 Score: 0.9413118527042578\n"
     ]
    }
   ],
   "source": [
    "from sklearn.metrics import f1_score\n",
    "\n",
    "preds, gts = [], []\n",
    "\n",
    "for _, sample in enumerate(eval_dataloader):\n",
    "    \n",
    "    input_ids = sample['input_ids'].to(device)\n",
    "    attention_mask = sample['attention_mask'].to(device)\n",
    "    labels = sample['labels'].to(device)\n",
    "    \n",
    "    with torch.no_grad():\n",
    "        outputs = model(input_ids, \n",
    "                        token_type_ids = None,\n",
    "                        attention_mask = attention_mask,\n",
    "                        labels = labels)\n",
    "        loss = outputs.loss\n",
    "        total_eval_loss += loss.item()\n",
    "        \n",
    "        logits = outputs.logits\n",
    "        logits = logits.detach().cpu().numpy()\n",
    "        labels = labels.to('cpu').numpy()\n",
    "        gts.extend(labels)\n",
    "        pred = np.argmax(logits, axis = 1)\n",
    "        preds.extend(pred)\n",
    "\n",
    "# F1 score 계산\n",
    "final_f1 = f1_score(gts, preds)\n",
    "print(f\"Test Data F1 Score: {final_f1}\")"
   ]
  },
  {
   "cell_type": "code",
   "execution_count": 61,
   "metadata": {},
   "outputs": [
    {
     "data": {
      "image/png": "[encoded data removed]",
      "text/plain": [
       "<Figure size 640x480 with 2 Axes>"
      ]
     },
     "metadata": {},
     "output_type": "display_data"
    }
   ],
   "source": [
    "test_df = pd.DataFrame({'pred': preds, 'label': gts})\n",
    "test_df\n",
    "\n",
    "confusion_matrix = pd.crosstab(test_df['label'], test_df['pred'])\n",
    "confusion_matrix.index = test_df['pred'].unique()\n",
    "confusion_matrix.columns = test_df['label'].unique()\n",
    "confusion_matrix = confusion_matrix.iloc[::-1, :]\n",
    "\n",
    "sns.heatmap(confusion_matrix, cmap = 'Purples', annot = True, linewidth = .5, fmt = \".0f\")\n",
    "plt.title(\"Heatmap\")\n",
    "plt.ylabel(\"label\")\n",
    "plt.xlabel(\"pred\")\n",
    "plt.show()"
   ]
  },
  {
   "cell_type": "code",
   "execution_count": 62,
   "metadata": {},
   "outputs": [],
   "source": [
    "torch.save(model.state_dict(), 'klue-bert-fine-tuned.pth')"
   ]
  }
 ],
 "metadata": {
  "accelerator": "GPU",
  "colab": {
   "gpuType": "T4",
   "name": "",
   "version": ""
  },
  "kernelspec": {
   "display_name": "euron",
   "language": "python",
   "name": "python3"
  },
  "language_info": {
   "codemirror_mode": {
    "name": "ipython",
    "version": 3
   },
   "file_extension": ".py",
   "mimetype": "text/x-python",
   "name": "python",
   "nbconvert_exporter": "python",
   "pygments_lexer": "ipython3",
   "version": "3.10.0"
  }
 },
 "nbformat": 4,
 "nbformat_minor": 0
}
